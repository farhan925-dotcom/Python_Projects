{
  "nbformat": 4,
  "nbformat_minor": 0,
  "metadata": {
    "colab": {
      "provenance": [],
      "authorship_tag": "ABX9TyPxjf0Zult79lmuwVL+0t/G",
      "include_colab_link": true
    },
    "kernelspec": {
      "name": "python3",
      "display_name": "Python 3"
    },
    "language_info": {
      "name": "python"
    }
  },
  "cells": [
    {
      "cell_type": "markdown",
      "metadata": {
        "id": "view-in-github",
        "colab_type": "text"
      },
      "source": [
        "<a href=\"https://colab.research.google.com/github/farhan925-dotcom/Python_Projects/blob/main/Untitled1.ipynb\" target=\"_parent\"><img src=\"https://colab.research.google.com/assets/colab-badge.svg\" alt=\"Open In Colab\"/></a>"
      ]
    },
    {
      "cell_type": "code",
      "execution_count": 7,
      "metadata": {
        "colab": {
          "base_uri": "https://localhost:8080/"
        },
        "id": "4bD0NkoX-Vwc",
        "outputId": "a183a4c4-5b5a-4a5d-8b88-afd6a8496c4d"
      },
      "outputs": [
        {
          "output_type": "stream",
          "name": "stdout",
          "text": [
            "Enter the length of the rectangle: 9989899\n",
            "Enter the width of the rectangle: 989898\n",
            "The area of the rectangle is: 9888981040302.0\n",
            "Enter the principal amount: 9888\n",
            "Enter the rate of interest: 898\n",
            "Enter the time (in years): 9\n",
            "The Simple Interest is: 799148.16\n",
            "Enter your birth year: 9\n",
            "Enter the current year: 9\n",
            "Your age is: 0\n",
            "Enter the radius of the circle: 9\n",
            "Area of the circle: 254.46879\n",
            "Circumference of the circle: 56.54862\n",
            "Enter temperature in Celsius: 8\n",
            "Temperature in Fahrenheit: 46.4\n",
            "Enter first number: 88\n",
            "Enter second number: 99\n",
            "Enter third number: 88\n",
            "The average of the three numbers is: 91.66666666666667\n"
          ]
        }
      ],
      "source": [
        "# Area of a Rectangle\n",
        "\n",
        "# Get input from the user\n",
        "length = float(input(\"Enter the length of the rectangle: \"))\n",
        "width = float(input(\"Enter the width of the rectangle: \"))\n",
        "\n",
        "# Calculate area\n",
        "area = length * width\n",
        "\n",
        "# Display the result\n",
        "print(\"The area of the rectangle is:\", area)\n",
        "\n",
        "\n",
        "# Simple Interest Calculator\n",
        "\n",
        "# Get input from the user\n",
        "principal = float(input(\"Enter the principal amount: \"))\n",
        "rate = float(input(\"Enter the rate of interest: \"))\n",
        "time = float(input(\"Enter the time (in years): \"))\n",
        "\n",
        "# Calculate simple interest\n",
        "simple_interest = (principal * rate * time) / 100\n",
        "\n",
        "# Display the result\n",
        "print(\"The Simple Interest is:\", simple_interest)\n",
        "\n",
        "\n",
        "# Age Calculator\n",
        "\n",
        "# Get input from the user\n",
        "birth_year = int(input(\"Enter your birth year: \"))\n",
        "current_year = int(input(\"Enter the current year: \"))\n",
        "\n",
        "# Q-3 Calculate age\n",
        "age = current_year - birth_year\n",
        "\n",
        "# Display the result\n",
        "print(\"Your age is:\", age)\n",
        "\n",
        "\n",
        "\n",
        "# Q-4 Circle Properties\n",
        "\n",
        "# Get input from the user\n",
        "radius = float(input(\"Enter the radius of the circle: \"))\n",
        "\n",
        "# Define the value of pi\n",
        "pi = 3.14159\n",
        "\n",
        "# Calculate area and circumference\n",
        "area = pi * radius * radius\n",
        "circumference = 2 * pi * radius\n",
        "\n",
        "# Display the results\n",
        "print(\"Area of the circle:\", area)\n",
        "print(\"Circumference of the circle:\", circumference)\n",
        "\n",
        "\n",
        "\n",
        "# Q-5 Temperature Conversion: Celsius to Fahrenheit\n",
        "\n",
        "# Get input from the user\n",
        "celsius = float(input(\"Enter temperature in Celsius: \"))\n",
        "\n",
        "# Convert to Fahrenheit\n",
        "fahrenheit = (celsius * 9/5) + 32\n",
        "\n",
        "# Display the result\n",
        "print(\"Temperature in Fahrenheit:\", fahrenheit)\n",
        "\n",
        "\n",
        "\n",
        "# Q-6 Average of Three Numbers\n",
        "\n",
        "# Get input from the user\n",
        "num1 = float(input(\"Enter first number: \"))\n",
        "num2 = float(input(\"Enter second number: \"))\n",
        "num3 = float(input(\"Enter third number: \"))\n",
        "\n",
        "# Calculate average\n",
        "average = (num1 + num2 + num3) / 3\n",
        "\n",
        "# Display the result\n",
        "print(\"The average of the three numbers is:\", average)\n",
        "\n",
        "\n"
      ]
    }
  ]
}