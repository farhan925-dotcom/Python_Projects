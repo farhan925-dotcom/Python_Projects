{
  "nbformat": 4,
  "nbformat_minor": 0,
  "metadata": {
    "colab": {
      "provenance": []
    },
    "kernelspec": {
      "name": "python3",
      "display_name": "Python 3"
    },
    "language_info": {
      "name": "python"
    }
  },
  "cells": [
    {
      "cell_type": "code",
      "source": [
        "import numpy as np\n",
        "\n",
        "print(\"\\n🔹 Special Arrays:\")\n",
        "print(\"Zeros:\\n\", np.zeros((2, 3)))\n",
        "print(\"Ones:\\n\", np.ones((3, 2)))\n",
        "print(\"Identity matrix:\\n\", np.eye(3))\n",
        "print(\"Random values:\\n\", np.random.rand(2, 2))\n",
        "print(\"Arange:\\n\", np.arange(0, 10, 2))\n",
        "print(\"Linspace:\\n\", np.linspace(0, 10, 5))"
      ],
      "metadata": {
        "colab": {
          "base_uri": "https://localhost:8080/"
        },
        "id": "dInRMwVAiqxU",
        "outputId": "2a52b77b-9244-474a-cbcd-75d79dfc9098"
      },
      "execution_count": null,
      "outputs": [
        {
          "output_type": "stream",
          "name": "stdout",
          "text": [
            "\n",
            "🔹 Special Arrays:\n",
            "Zeros:\n",
            " [[0. 0. 0.]\n",
            " [0. 0. 0.]]\n",
            "Ones:\n",
            " [[1. 1.]\n",
            " [1. 1.]\n",
            " [1. 1.]]\n",
            "Identity matrix:\n",
            " [[1. 0. 0.]\n",
            " [0. 1. 0.]\n",
            " [0. 0. 1.]]\n",
            "Random values:\n",
            " [[0.9441862  0.82134862]\n",
            " [0.98036563 0.65962185]]\n",
            "Arange:\n",
            " [0 2 4 6 8]\n",
            "Linspace:\n",
            " [ 0.   2.5  5.   7.5 10. ]\n"
          ]
        }
      ]
    },
    {
      "cell_type": "code",
      "source": [
        "import numpy as np\n",
        "\n",
        "# 1D array\n",
        "arr_1d = np.array([1, 2, 3, 4, 5])\n",
        "print(\"1D Array:\")\n",
        "print(\"Shape:\", arr_1d.shape)\n",
        "print(\"Number of dimensions:\", arr_1d.ndim)\n",
        "print(\"Size:\", arr_1d.size)\n",
        "print()\n",
        "\n",
        "# 2D array\n",
        "arr_2d = np.array([[1, 2, 3], [4, 5, 6]])\n",
        "print(\"2D Array:\")\n",
        "print(\"Shape:\", arr_2d.shape)\n",
        "print(\"Number of dimensions:\", arr_2d.ndim)\n",
        "print(\"Size:\", arr_2d.size)\n",
        "print()\n",
        "\n",
        "# 3D array\n",
        "arr_3d = np.array([[[1, 2], [3, 4]], [[5, 6], [7, 8]]])\n",
        "print(\"3D Array:\")\n",
        "print(\"Shape:\", arr_3d.shape)\n",
        "print(\"Number of dimensions:\", arr_3d.ndim)\n",
        "print(\"Size:\", arr_3d.size)\n",
        "print()"
      ],
      "metadata": {
        "colab": {
          "base_uri": "https://localhost:8080/"
        },
        "id": "gR5YlExPsoDT",
        "outputId": "d7627808-6fc9-4369-f1af-be76cc3be61b"
      },
      "execution_count": null,
      "outputs": [
        {
          "output_type": "stream",
          "name": "stdout",
          "text": [
            "1D Array:\n",
            "Shape: (5,)\n",
            "Number of dimensions: 1\n",
            "Size: 5\n",
            "\n",
            "2D Array:\n",
            "Shape: (2, 3)\n",
            "Number of dimensions: 2\n",
            "Size: 6\n",
            "\n",
            "3D Array:\n",
            "Shape: (2, 2, 2)\n",
            "Number of dimensions: 3\n",
            "Size: 8\n",
            "\n"
          ]
        }
      ]
    },
    {
      "cell_type": "code",
      "source": [
        "arr = np.array([10, 20, 30, 40, 40])\n",
        "print(np.mean(arr))   # Mean\n",
        "print(np.median(arr)) # Median\n",
        "\n",
        "print(np.min(arr))    # Minimum\n",
        "print(np.max(arr))    # Maximum\n",
        "print(np.sum(arr))    # Sum of elements\n",
        "\n",
        "print(\"\\n🔹 Sorting and Unique:\")\n",
        "d = np.array([3, 1, 2, 3])\n",
        "print(\"Sorted:\", np.sort(d))\n",
        "print(\"Unique values:\", np.unique(d))"
      ],
      "metadata": {
        "colab": {
          "base_uri": "https://localhost:8080/"
        },
        "id": "BkyWAw35ukk7",
        "outputId": "73a5435c-9b91-4b1c-f311-1d38ba5f8e30"
      },
      "execution_count": null,
      "outputs": [
        {
          "output_type": "stream",
          "name": "stdout",
          "text": [
            "28.0\n",
            "30.0\n",
            "10\n",
            "40\n",
            "140\n",
            "\n",
            "🔹 Sorting and Unique:\n",
            "Sorted: [1 2 3 3]\n",
            "Unique values: [1 2 3]\n"
          ]
        }
      ]
    },
    {
      "cell_type": "code",
      "source": [
        "# 1D array\n",
        "arr_1d = np.array([1, 2, 3, 4, 5])\n",
        "\n",
        "# Scalar to 1D array addition\n",
        "result_scalar_add = arr_1d + 2\n",
        "print(\"Scalar addition:\", result_scalar_add)\n",
        "\n",
        "# Scalar to 1D array multiplication\n",
        "result_scalar_mul = arr_1d * 3\n",
        "print(\"Scalar multiplication:\", result_scalar_mul)\n",
        "\n",
        "# 1D array to 1D array addition (assuming equal length)\n",
        "arr_1d_2 = np.array([6, 7, 8, 9,10])\n",
        "result_array_add = arr_1d + arr_1d_2\n",
        "print(\"Array addition:\", result_array_add)\n",
        "\n",
        "# 1D array to 1D array multiplication (assuming equal length)\n",
        "result_array_mul = arr_1d * arr_1d_2\n",
        "print(\"Array multiplication:\", result_array_mul)\n",
        "\n",
        "arr_dif = arr_1d - arr_1d_2\n",
        "print(\"Array subtraction:\", arr_dif)\n"
      ],
      "metadata": {
        "colab": {
          "base_uri": "https://localhost:8080/"
        },
        "id": "6UyDuRh6tBIS",
        "outputId": "68284b7c-3e3c-48fb-b119-e8a9930be77b"
      },
      "execution_count": null,
      "outputs": [
        {
          "output_type": "stream",
          "name": "stdout",
          "text": [
            "Scalar addition: [3 4 5 6 7]\n",
            "Scalar multiplication: [ 3  6  9 12 15]\n",
            "Array addition: [ 7  9 11 13 15]\n",
            "Array multiplication: [ 6 14 24 36 50]\n",
            "Array subtraction: [-5 -5 -5 -5 -5]\n"
          ]
        }
      ]
    },
    {
      "cell_type": "code",
      "source": [
        "import time\n",
        "import numpy as np\n",
        "\n",
        "# Size of the dataset\n",
        "N = 10_000_000\n",
        "\n",
        "# ----------------------\n",
        "# Using Python List\n",
        "# ----------------------\n",
        "list1 = list(range(N))\n",
        "list2 = list(range(N))\n",
        "\n",
        "start_time = time.time()\n",
        "result_list = [x + y for x, y in zip(list1, list2)]\n",
        "end_time = time.time()\n",
        "print(\"Time taken using Python List:\", round(end_time - start_time, 4), \"seconds\")\n",
        "\n",
        "# ----------------------\n",
        "# Using NumPy Array\n",
        "# ----------------------\n",
        "array1 = np.arange(N)\n",
        "array2 = np.arange(N)\n",
        "\n",
        "start_time = time.time()\n",
        "result_array = array1 + array2\n",
        "end_time = time.time()\n",
        "print(\"Time taken using NumPy Array:\", round(end_time - start_time, 4), \"seconds\")\n"
      ],
      "metadata": {
        "colab": {
          "base_uri": "https://localhost:8080/"
        },
        "id": "cA-0E9zahDwU",
        "outputId": "a7d272ea-19a8-4e22-91d9-4e465b0972a1"
      },
      "execution_count": null,
      "outputs": [
        {
          "output_type": "stream",
          "name": "stdout",
          "text": [
            "Time taken using Python List: 0.6556 seconds\n",
            "Time taken using NumPy Array: 0.0386 seconds\n"
          ]
        }
      ]
    },
    {
      "cell_type": "code",
      "source": [
        "# Reshaping\n",
        "arr = np.array([1, 2, 3, 4, 5, 6])\n",
        "print(\"Reshape (2x3): \")\n",
        "print(arr.reshape(2,3))  # Convert 1D to 2D (2x3)\n",
        "print(\"Reshape (3x2): \")\n",
        "print(arr.reshape(3,2))\n",
        "\n",
        "# Flttening\n",
        "arr = np.array([[1, 2], [3, 4]])\n",
        "print(\"Flatten: \",arr.flatten())  # [1 2 3 4]\n",
        "\n",
        "# Transpose\n",
        "arr = np.array([[1, 2, 3], [4, 5, 6]])\n",
        "print(\"Transpose: \")\n",
        "print(arr.T)  # Swap rows and columns\n"
      ],
      "metadata": {
        "colab": {
          "base_uri": "https://localhost:8080/"
        },
        "id": "7-S1ksmfvVYG",
        "outputId": "8ccd04e7-6a06-4658-85e1-a8f7dd489684"
      },
      "execution_count": null,
      "outputs": [
        {
          "output_type": "stream",
          "name": "stdout",
          "text": [
            "Reshape (2x3): \n",
            "[[1 2 3]\n",
            " [4 5 6]]\n",
            "Reshape (3x2): \n",
            "[[1 2]\n",
            " [3 4]\n",
            " [5 6]]\n",
            "Flatten:  [1 2 3 4]\n",
            "Transpose: \n",
            "[[1 4]\n",
            " [2 5]\n",
            " [3 6]]\n"
          ]
        }
      ]
    },
    {
      "cell_type": "code",
      "source": [
        "arr2d = np.array([[1, 2, 3], [4, 5, 6], [7, 8, 9]])\n",
        "print(\"\\n2D Array:\\n\", arr2d)\n",
        "\n",
        "# Accessing elements in a 2D array\n",
        "print(\"Element at row 0, column 1:\", arr2d[0, 1])\n",
        "print(\"Element at row 2, column 2:\", arr2d[2, 2])\n",
        "\n",
        "# Slicing a 2D array\n",
        "print(\"Row 0:\", arr2d[0, :])\n",
        "print(\"Column 1:\", arr2d[:, 1])\n",
        "print(\"Subarray:\\n\", arr2d[:3, :2])"
      ],
      "metadata": {
        "colab": {
          "base_uri": "https://localhost:8080/"
        },
        "id": "TYVmAyREw7RU",
        "outputId": "516d8f54-585e-4326-c0de-9d737e0c0e99"
      },
      "execution_count": null,
      "outputs": [
        {
          "output_type": "stream",
          "name": "stdout",
          "text": [
            "\n",
            "2D Array:\n",
            " [[1 2 3]\n",
            " [4 5 6]\n",
            " [7 8 9]]\n",
            "Element at row 0, column 1: 2\n",
            "Element at row 2, column 2: 9\n",
            "Row 0: [1 2 3]\n",
            "Column 1: [2 5 8]\n",
            "Subarray:\n",
            " [[1 2]\n",
            " [4 5]\n",
            " [7 8]]\n"
          ]
        }
      ]
    }
  ]
}